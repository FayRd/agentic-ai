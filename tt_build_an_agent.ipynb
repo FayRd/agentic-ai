{
 "cells": [
  {
   "cell_type": "code",
   "execution_count": null,
   "id": "11967563",
   "metadata": {},
   "outputs": [],
   "source": [
    "# Importing\n",
    "from langchain.chat_models import init_chat_model\n",
    "from langchain_tavily import TavilySearch\n",
    "from langgraph.checkpoint.memory import MemorySaver\n",
    "from langgraph.prebuilt import create_react_agent"
   ]
  },
  {
   "cell_type": "code",
   "execution_count": 19,
   "id": "12ef57b7",
   "metadata": {},
   "outputs": [],
   "source": [
    "import getpass\n",
    "import os\n",
    "\n",
    "os.environ[\"TAVILY_API_KEY\"] = getpass.getpass()"
   ]
  },
  {
   "cell_type": "code",
   "execution_count": 26,
   "id": "e6b6bbb3",
   "metadata": {},
   "outputs": [],
   "source": [
    "# Initialize chat model\n",
    "if not os.environ.get(\"GOOGLE_API_KEY\"):\n",
    "  os.environ[\"GOOGLE_API_KEY\"] = getpass.getpass(\"Enter API key for Google Gemini: \")\n",
    "\n",
    "from langchain.chat_models import init_chat_model\n",
    "\n",
    "model = init_chat_model(\"gemini-2.0-flash\", model_provider=\"google_genai\")"
   ]
  },
  {
   "cell_type": "code",
   "execution_count": 27,
   "id": "1d984cdd",
   "metadata": {},
   "outputs": [
    {
     "name": "stdout",
     "output_type": "stream",
     "text": [
      "{'query': 'What is the weather in Singapore?', 'follow_up_questions': None, 'answer': None, 'images': [], 'results': [{'title': 'Weather in Singapore', 'url': 'https://www.weatherapi.com/', 'content': \"{'location': {'name': 'Singapore', 'region': '', 'country': 'Singapore', 'lat': 1.293, 'lon': 103.856, 'tz_id': 'Asia/Singapore', 'localtime_epoch': 1751855412, 'localtime': '2025-07-07 10:30'}, 'current': {'last_updated_epoch': 1751854500, 'last_updated': '2025-07-07 10:15', 'temp_c': 30.4, 'temp_f': 86.7, 'is_day': 1, 'condition': {'text': 'Partly cloudy', 'icon': '//cdn.weatherapi.com/weather/64x64/day/116.png', 'code': 1003}, 'wind_mph': 10.7, 'wind_kph': 17.3, 'wind_degree': 145, 'wind_dir': 'SE', 'pressure_mb': 1011.0, 'pressure_in': 29.85, 'precip_mm': 0.0, 'precip_in': 0.0, 'humidity': 66, 'cloud': 75, 'feelslike_c': 36.2, 'feelslike_f': 97.2, 'windchill_c': 29.7, 'windchill_f': 85.4, 'heatindex_c': 34.4, 'heatindex_f': 94.0, 'dewpoint_c': 23.9, 'dewpoint_f': 75.0, 'vis_km': 10.0, 'vis_miles': 6.0, 'uv': 4.2, 'gust_mph': 14.4, 'gust_kph': 23.1}}\", 'score': 0.9377584, 'raw_content': None}, {'url': 'https://www.weather25.com/asia/singapore?page=month&month=July', 'title': 'Singapore weather in July 2025 - Weather25.com', 'content': 'Singapore weather in July 2025 | Singapore 14 day weather Singapore Image 3: weather in Singapore Singapore weather in July 2025 The average weather in Singapore in July | July | **31°** / 27° | 11 | 20 | 0 | 194 mm | Ok | Singapore in July | Temperatures in Singapore in July Rain in Singapore in July Weather in Singapore in July - FAQ What is the average temperature in Singapore in July? The average temperature in Singapore in July is 27/31° C. On average, there are 11 rainy days in Singapore during July. The weather in Singapore in July is ok. On average, there are 0 snowy days in Singapore in July. More about the weather in Singapore', 'score': 0.8763069, 'raw_content': None}], 'response_time': 1.3}\n"
     ]
    }
   ],
   "source": [
    "# Define tools\n",
    "search = TavilySearch(max_results=2)\n",
    "search_results = search.invoke(\"What is the weather in Singapore?\")\n",
    "print(search_results)\n",
    "# If we want, we can create other tools.\n",
    "# Once we have all the tools we want, we can put them in a list that we will reference later.\n",
    "tools = [search]"
   ]
  },
  {
   "cell_type": "code",
   "execution_count": 28,
   "id": "5d894bc4",
   "metadata": {},
   "outputs": [],
   "source": [
    "# Enable mode to do tool calling\n",
    "model_with_tools = model.bind_tools(tools)"
   ]
  },
  {
   "cell_type": "code",
   "execution_count": 29,
   "id": "b0b0d873",
   "metadata": {},
   "outputs": [
    {
     "name": "stdout",
     "output_type": "stream",
     "text": [
      "Message content: Hi, how can I help you today?\n",
      "\n",
      "Tool calls: []\n"
     ]
    }
   ],
   "source": [
    "# Test with normal message\n",
    "query = \"Hi!\"\n",
    "response = model_with_tools.invoke([{\"role\": \"user\", \"content\": query}])\n",
    "\n",
    "print(f\"Message content: {response.text()}\\n\")\n",
    "print(f\"Tool calls: {response.tool_calls}\")"
   ]
  },
  {
   "cell_type": "code",
   "execution_count": 30,
   "id": "a90d3ac9",
   "metadata": {},
   "outputs": [
    {
     "name": "stdout",
     "output_type": "stream",
     "text": [
      "Message content: \n",
      "\n",
      "Tool calls: [{'name': 'tavily_search', 'args': {'query': 'weather in Singapore'}, 'id': '43fa1ee4-bf8a-4519-acb2-97322a8df29f', 'type': 'tool_call'}]\n"
     ]
    }
   ],
   "source": [
    "# Test\n",
    "query = \"Search for the weather in Singapore\"\n",
    "response = model_with_tools.invoke([{\"role\": \"user\", \"content\": query}])\n",
    "\n",
    "print(f\"Message content: {response.text()}\\n\")\n",
    "print(f\"Tool calls: {response.tool_calls}\")"
   ]
  },
  {
   "cell_type": "markdown",
   "id": "1ccbfdbc",
   "metadata": {},
   "source": [
    "## Create Agent"
   ]
  },
  {
   "cell_type": "code",
   "execution_count": 31,
   "id": "6d072708",
   "metadata": {},
   "outputs": [],
   "source": [
    "# Create agent\n",
    "agent_executor = create_react_agent(model, tools)"
   ]
  },
  {
   "cell_type": "code",
   "execution_count": 33,
   "id": "50071c59",
   "metadata": {},
   "outputs": [
    {
     "name": "stdout",
     "output_type": "stream",
     "text": [
      "================================\u001b[1m Human Message \u001b[0m=================================\n",
      "\n",
      "Search for the weather in Singapore\n",
      "==================================\u001b[1m Ai Message \u001b[0m==================================\n",
      "Tool Calls:\n",
      "  tavily_search (ea5a2ec6-89af-4b1e-91cb-627084743144)\n",
      " Call ID: ea5a2ec6-89af-4b1e-91cb-627084743144\n",
      "  Args:\n",
      "    query: weather in Singapore\n",
      "=================================\u001b[1m Tool Message \u001b[0m=================================\n",
      "Name: tavily_search\n",
      "\n",
      "{\"query\": \"weather in Singapore\", \"follow_up_questions\": null, \"answer\": null, \"images\": [], \"results\": [{\"title\": \"Weather in Singapore\", \"url\": \"https://www.weatherapi.com/\", \"content\": \"{'location': {'name': 'Singapore', 'region': '', 'country': 'Singapore', 'lat': 1.293, 'lon': 103.856, 'tz_id': 'Asia/Singapore', 'localtime_epoch': 1751855505, 'localtime': '2025-07-07 10:31'}, 'current': {'last_updated_epoch': 1751855400, 'last_updated': '2025-07-07 10:30', 'temp_c': 30.2, 'temp_f': 86.4, 'is_day': 1, 'condition': {'text': 'Partly cloudy', 'icon': '//cdn.weatherapi.com/weather/64x64/day/116.png', 'code': 1003}, 'wind_mph': 10.7, 'wind_kph': 17.3, 'wind_degree': 145, 'wind_dir': 'SE', 'pressure_mb': 1012.0, 'pressure_in': 29.88, 'precip_mm': 0.0, 'precip_in': 0.0, 'humidity': 62, 'cloud': 75, 'feelslike_c': 35.7, 'feelslike_f': 96.3, 'windchill_c': 29.7, 'windchill_f': 85.4, 'heatindex_c': 34.4, 'heatindex_f': 94.0, 'dewpoint_c': 23.9, 'dewpoint_f': 75.0, 'vis_km': 10.0, 'vis_miles': 6.0, 'uv': 4.2, 'gust_mph': 14.4, 'gust_kph': 23.1}}\", \"score\": 0.9442792, \"raw_content\": null}, {\"url\": \"https://www.weather25.com/asia/singapore?page=month&month=July\", \"title\": \"Singapore weather in July 2025 - Weather25.com\", \"content\": \"Singapore weather in July 2025 | Singapore 14 day weather Singapore Image 3: weather in Singapore Singapore weather in July 2025 The average weather in Singapore in July | July | **31°** / 27° | 11 | 20 | 0 | 194 mm | Ok | Singapore in July | Temperatures in Singapore in July Rain in Singapore in July Weather in Singapore in July - FAQ What is the average temperature in Singapore in July? The average temperature in Singapore in July is 27/31° C. On average, there are 11 rainy days in Singapore during July. The weather in Singapore in July is ok. On average, there are 0 snowy days in Singapore in July. More about the weather in Singapore\", \"score\": 0.9301101, \"raw_content\": null}], \"response_time\": 2.73}\n",
      "==================================\u001b[1m Ai Message \u001b[0m==================================\n",
      "\n",
      "The weather in Singapore is partly cloudy with a temperature of 30.2°C, but it feels like 35.7°C. The wind is blowing from the southeast at 17.3 kph.\n"
     ]
    }
   ],
   "source": [
    "# Run agent\n",
    "input_message = {\"role\": \"user\", \"content\": \"Search for the weather in Singapore\"}\n",
    "response = agent_executor.invoke({\"messages\": [input_message]})\n",
    "\n",
    "for message in response[\"messages\"]:\n",
    "    message.pretty_print()"
   ]
  },
  {
   "cell_type": "code",
   "execution_count": 34,
   "id": "e7468680",
   "metadata": {},
   "outputs": [
    {
     "name": "stdout",
     "output_type": "stream",
     "text": [
      "================================\u001b[1m Human Message \u001b[0m=================================\n",
      "\n",
      "Search for the weather in Singapore\n",
      "==================================\u001b[1m Ai Message \u001b[0m==================================\n",
      "Tool Calls:\n",
      "  tavily_search (02306818-96ff-45c1-b3d2-7ae9974fe280)\n",
      " Call ID: 02306818-96ff-45c1-b3d2-7ae9974fe280\n",
      "  Args:\n",
      "    query: weather in Singapore\n",
      "=================================\u001b[1m Tool Message \u001b[0m=================================\n",
      "Name: tavily_search\n",
      "\n",
      "{\"query\": \"weather in Singapore\", \"follow_up_questions\": null, \"answer\": null, \"images\": [], \"results\": [{\"title\": \"Weather in Singapore\", \"url\": \"https://www.weatherapi.com/\", \"content\": \"{'location': {'name': 'Singapore', 'region': '', 'country': 'Singapore', 'lat': 1.293, 'lon': 103.856, 'tz_id': 'Asia/Singapore', 'localtime_epoch': 1751855505, 'localtime': '2025-07-07 10:31'}, 'current': {'last_updated_epoch': 1751855400, 'last_updated': '2025-07-07 10:30', 'temp_c': 30.2, 'temp_f': 86.4, 'is_day': 1, 'condition': {'text': 'Partly cloudy', 'icon': '//cdn.weatherapi.com/weather/64x64/day/116.png', 'code': 1003}, 'wind_mph': 10.7, 'wind_kph': 17.3, 'wind_degree': 145, 'wind_dir': 'SE', 'pressure_mb': 1012.0, 'pressure_in': 29.88, 'precip_mm': 0.0, 'precip_in': 0.0, 'humidity': 62, 'cloud': 75, 'feelslike_c': 35.7, 'feelslike_f': 96.3, 'windchill_c': 29.7, 'windchill_f': 85.4, 'heatindex_c': 34.4, 'heatindex_f': 94.0, 'dewpoint_c': 23.9, 'dewpoint_f': 75.0, 'vis_km': 10.0, 'vis_miles': 6.0, 'uv': 4.2, 'gust_mph': 14.4, 'gust_kph': 23.1}}\", \"score\": 0.9442792, \"raw_content\": null}, {\"url\": \"https://www.weather25.com/asia/singapore?page=month&month=July\", \"title\": \"Singapore weather in July 2025 - Weather25.com\", \"content\": \"Singapore weather in July 2025 | Singapore 14 day weather Singapore Image 3: weather in Singapore Singapore weather in July 2025 The average weather in Singapore in July | July | **31°** / 27° | 11 | 20 | 0 | 194 mm | Ok | Singapore in July | Temperatures in Singapore in July Rain in Singapore in July Weather in Singapore in July - FAQ What is the average temperature in Singapore in July? The average temperature in Singapore in July is 27/31° C. On average, there are 11 rainy days in Singapore during July. The weather in Singapore in July is ok. On average, there are 0 snowy days in Singapore in July. More about the weather in Singapore\", \"score\": 0.9301101, \"raw_content\": null}], \"response_time\": 1.62}\n",
      "==================================\u001b[1m Ai Message \u001b[0m==================================\n",
      "\n",
      "The weather in Singapore on July 7, 2025 is partly cloudy with a temperature of 30.2°C (86.4°F). The wind is from the southeast at 17.3 kph. The humidity is 62%.\n"
     ]
    }
   ],
   "source": [
    "# Streaming messages\n",
    "for step in agent_executor.stream({\"messages\": [input_message]}, stream_mode=\"values\"):\n",
    "    step[\"messages\"][-1].pretty_print()"
   ]
  },
  {
   "cell_type": "code",
   "execution_count": 35,
   "id": "5e8dd62d",
   "metadata": {},
   "outputs": [
    {
     "name": "stdout",
     "output_type": "stream",
     "text": [
      "The weather in Singapore| on July 7, 2025 is partly cloudy with a temperature| of 30.2°C (86.4°F).| The wind is from the Southeast at 17.3 kph. The humidity is 62%.|"
     ]
    }
   ],
   "source": [
    "# Streaming tokens\n",
    "for step, metadata in agent_executor.stream({\"messages\": [input_message]}, stream_mode=\"messages\"):\n",
    "    if metadata[\"langgraph_node\"] == \"agent\" and (text := step.text()):\n",
    "        print(text, end=\"|\")"
   ]
  },
  {
   "cell_type": "markdown",
   "id": "9ab5a1ba",
   "metadata": {},
   "source": [
    "### Adding in memory"
   ]
  },
  {
   "cell_type": "code",
   "execution_count": 36,
   "id": "c62d61cd",
   "metadata": {},
   "outputs": [],
   "source": [
    "memory = MemorySaver()"
   ]
  },
  {
   "cell_type": "code",
   "execution_count": 37,
   "id": "fa7b6f8d",
   "metadata": {},
   "outputs": [],
   "source": [
    "# Create agent with memory\n",
    "agent_executor = create_react_agent(model, tools, checkpointer=memory)\n",
    "\n",
    "config = {\"configurable\": {\"thread_id\": \"abc123\"}}"
   ]
  },
  {
   "cell_type": "code",
   "execution_count": 38,
   "id": "f0a9ab3d",
   "metadata": {},
   "outputs": [
    {
     "name": "stdout",
     "output_type": "stream",
     "text": [
      "================================\u001b[1m Human Message \u001b[0m=================================\n",
      "\n",
      "Hi, I'm Fay!\n",
      "==================================\u001b[1m Ai Message \u001b[0m==================================\n",
      "\n",
      "Hi Fay, nice to meet you! Is there anything I can help you with today?\n"
     ]
    }
   ],
   "source": [
    "input_message = {\"role\": \"user\", \"content\": \"Hi, I'm Fay!\"}\n",
    "for step in agent_executor.stream({\"messages\": [input_message]}, config, stream_mode=\"values\"):\n",
    "    step[\"messages\"][-1].pretty_print()"
   ]
  },
  {
   "cell_type": "code",
   "execution_count": 39,
   "id": "d2428689",
   "metadata": {},
   "outputs": [
    {
     "name": "stdout",
     "output_type": "stream",
     "text": [
      "================================\u001b[1m Human Message \u001b[0m=================================\n",
      "\n",
      "What's my name?\n",
      "==================================\u001b[1m Ai Message \u001b[0m==================================\n",
      "\n",
      "Your name is Fay.\n"
     ]
    }
   ],
   "source": [
    "input_message = {\"role\": \"user\", \"content\": \"What's my name?\"}\n",
    "for step in agent_executor.stream({\"messages\": [input_message]}, config, stream_mode=\"values\"):\n",
    "    step[\"messages\"][-1].pretty_print()"
   ]
  },
  {
   "cell_type": "markdown",
   "id": "b246ced8",
   "metadata": {},
   "source": [
    "Note: For new conversation, change the thread_id."
   ]
  }
 ],
 "metadata": {
  "kernelspec": {
   "display_name": ".venv",
   "language": "python",
   "name": "python3"
  },
  "language_info": {
   "codemirror_mode": {
    "name": "ipython",
    "version": 3
   },
   "file_extension": ".py",
   "mimetype": "text/x-python",
   "name": "python",
   "nbconvert_exporter": "python",
   "pygments_lexer": "ipython3",
   "version": "3.12.3"
  }
 },
 "nbformat": 4,
 "nbformat_minor": 5
}
